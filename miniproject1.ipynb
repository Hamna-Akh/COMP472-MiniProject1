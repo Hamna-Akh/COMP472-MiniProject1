{
 "cells": [
  {
   "cell_type": "markdown",
   "metadata": {},
   "source": []
  },
  {
   "cell_type": "markdown",
   "metadata": {},
   "source": [
    "# Imports"
   ]
  },
  {
   "cell_type": "code",
   "execution_count": 42,
   "metadata": {},
   "outputs": [],
   "source": [
    "import os\n",
    "import gzip\n",
    "import json\n",
    "import numpy as np\n",
    "import matplotlib.pyplot as plt\n",
    "import csv\n",
    "import gensim.downloader as api\n",
    "\n",
    "from random import randint\n",
    "from sklearn.naive_bayes import MultinomialNB\n",
    "from sklearn.tree import DecisionTreeClassifier\n",
    "from sklearn.neural_network import MLPClassifier\n",
    "from sklearn.metrics import classification_report\n",
    "from sklearn.metrics import confusion_matrix\n",
    "from sklearn.feature_extraction.text import CountVectorizer\n",
    "from sklearn.model_selection import GridSearchCV, train_test_split\n",
    "from matplotlib.backends.backend_pdf import PdfPages\n",
    "from gensim.models import Word2Vec, KeyedVectors\n",
    "from nltk.tokenize import word_tokenize"
   ]
  },
  {
   "cell_type": "markdown",
   "metadata": {},
   "source": [
    "# 1. Dataset Preparation & Analysis\n",
    "\n",
    "## 1.2 - Loading the dataset"
   ]
  },
  {
   "cell_type": "code",
   "execution_count": 43,
   "metadata": {},
   "outputs": [],
   "source": [
    "### goemotions.json.gz must be placed in the parent of current directory\n",
    "\n",
    "path = os.getcwd()\n",
    "f = gzip.open(os.path.abspath(os.path.join(path, os.pardir)) + '/goemotions.json.gz', 'rb')\n",
    "file_content = f.read()\n",
    "data_list = json.loads(file_content)"
   ]
  },
  {
   "cell_type": "markdown",
   "metadata": {},
   "source": [
    "## 1.3.1 - Extracting the posts and 2 sets of labels (emotion and sentiment)"
   ]
  },
  {
   "cell_type": "code",
   "execution_count": 44,
   "metadata": {},
   "outputs": [],
   "source": [
    "posts = []\n",
    "emotions = []\n",
    "sentiments = []\n",
    "\n",
    "for entry in data_list:\n",
    "    posts.append(entry[0])\n",
    "    emotions.append(entry[1])\n",
    "    sentiments.append(entry[2])"
   ]
  },
  {
   "cell_type": "markdown",
   "metadata": {},
   "source": [
    "## 1.3.2 - Plotting the distribution of the posts in each category and saving the graphics"
   ]
  },
  {
   "cell_type": "code",
   "execution_count": 45,
   "metadata": {},
   "outputs": [],
   "source": [
    "emotion_counts = []\n",
    "emotion_labels = []\n",
    "sentiment_counts = []\n",
    "sentiment_labels = []\n",
    "\n",
    "# Get n different colors\n",
    "def getColors(n):\n",
    "    colors = []\n",
    "    for i in range(n):\n",
    "        color = '#%06X' % randint(0, 0xFFFFFF)\n",
    "        while color in colors:\n",
    "            color = '#%06X' % randint(0, 0xFFFFFF)\n",
    "        colors.append(color)\n",
    "    return colors\n",
    "\n",
    "# Breakdown emotions list into counts and labels\n",
    "for emotion in emotions:\n",
    "    if emotion in emotion_labels:\n",
    "        index = emotion_labels.index(emotion)\n",
    "        emotion_counts[index] = emotion_counts[index] + 1\n",
    "    else:\n",
    "        emotion_labels.append(emotion)\n",
    "        emotion_counts.append(1)\n",
    "\n",
    "# Breakdown sentiments list into counts and labels\n",
    "for sentiment in sentiments:\n",
    "    if sentiment in sentiment_labels:\n",
    "        index = sentiment_labels.index(sentiment)\n",
    "        sentiment_counts[index] = sentiment_counts[index] + 1\n",
    "    else:\n",
    "        sentiment_labels.append(sentiment)\n",
    "        sentiment_counts.append(1)\n",
    "\n",
    "# Calculating frequencies for each classification\n",
    "emotion_freq = [round((count/sum(emotion_counts)), 3) for count in emotion_counts]\n",
    "sentiment_freq = [round((count/sum(sentiment_counts)), 3) for count in sentiment_counts]\n",
    "\n",
    "with PdfPages('frequency_charts.pdf') as pdf:\n",
    "    # Plotting emotion frequencies\n",
    "    plt.pie(emotion_counts, labels=emotion_labels, \n",
    "            startangle=90, colors=getColors(len(emotion_labels)),\n",
    "            rotatelabels=True, counterclock=False, \n",
    "            explode=[0.1 for emotion in emotion_labels], shadow=True)\n",
    "    plt.title('Emotion Frequencies', y=1.25)\n",
    "    # Displaying distribution in legend because hard to see on the chart    \n",
    "    plt.legend(title='Emotions:', labels=[f'{l}: {s:0.1f}%' for l, s in zip(emotion_labels, [freq * 100 for freq in emotion_freq])],\n",
    "            bbox_to_anchor=(1.2,0.5), loc='center right', \n",
    "            bbox_transform=plt.gcf().transFigure)\n",
    "    pdf.savefig(bbox_inches='tight')\n",
    "    plt.close()\n",
    "\n",
    "    # Plotting sentiment frequencies\n",
    "    plt.pie(sentiment_counts, labels=sentiment_labels, \n",
    "            startangle=90, colors=getColors(len(sentiment_labels)),\n",
    "            counterclock=False, autopct='%1.1f%%',\n",
    "            explode=[0.1 for sentiment in sentiment_labels], shadow=True)\n",
    "    plt.title('Sentiment Frequencies')\n",
    "    plt.legend(title='Sentiments:', labels=sentiment_labels, bbox_to_anchor=(1,0.5), loc='center right', bbox_transform=plt.gcf().transFigure)\n",
    "    pdf.savefig(bbox_inches='tight')\n",
    "    plt.close()"
   ]
  },
  {
   "cell_type": "markdown",
   "metadata": {},
   "source": [
    "# 3. Embeddings as Features"
   ]
  },
  {
   "cell_type": "markdown",
   "metadata": {},
   "source": [
    "## 3.1 - Load embedding model"
   ]
  },
  {
   "cell_type": "code",
   "execution_count": 46,
   "metadata": {},
   "outputs": [
    {
     "name": "stdout",
     "output_type": "stream",
     "text": [
      "KeyedVectors<vector_size=300, 3000000 keys>\n"
     ]
    }
   ],
   "source": [
    "GoogleNews = api.load(\"word2vec-google-news-300\", return_path = False)\n",
    "print(GoogleNews)"
   ]
  },
  {
   "cell_type": "markdown",
   "metadata": {},
   "source": [
    "## 3.2 - Tokenizer"
   ]
  },
  {
   "cell_type": "code",
   "execution_count": 47,
   "metadata": {},
   "outputs": [
    {
     "ename": "TypeError",
     "evalue": "the JSON object must be str, bytes or bytearray, not KeyedVectors",
     "output_type": "error",
     "traceback": [
      "\u001b[0;31m---------------------------------------------------------------------------\u001b[0m",
      "\u001b[0;31mTypeError\u001b[0m                                 Traceback (most recent call last)",
      "Cell \u001b[0;32mIn [47], line 3\u001b[0m\n\u001b[1;32m      1\u001b[0m \u001b[39m# Vectorizer = CountVectorizer()\u001b[39;00m\n\u001b[1;32m      2\u001b[0m \u001b[39m# X = vectorizer.fit_transform(posts)\u001b[39;00m\n\u001b[0;32m----> 3\u001b[0m google_list \u001b[39m=\u001b[39m json\u001b[39m.\u001b[39;49mloads(GoogleNews)\n\u001b[1;32m      4\u001b[0m tokens \u001b[39m=\u001b[39m []\n\u001b[1;32m      5\u001b[0m \u001b[39mfor\u001b[39;00m i \u001b[39min\u001b[39;00m word_tokenize(google_list):\n",
      "File \u001b[0;32m/usr/local/Cellar/python@3.8/3.8.5/Frameworks/Python.framework/Versions/3.8/lib/python3.8/json/__init__.py:341\u001b[0m, in \u001b[0;36mloads\u001b[0;34m(s, cls, object_hook, parse_float, parse_int, parse_constant, object_pairs_hook, **kw)\u001b[0m\n\u001b[1;32m    339\u001b[0m \u001b[39melse\u001b[39;00m:\n\u001b[1;32m    340\u001b[0m     \u001b[39mif\u001b[39;00m \u001b[39mnot\u001b[39;00m \u001b[39misinstance\u001b[39m(s, (\u001b[39mbytes\u001b[39m, \u001b[39mbytearray\u001b[39m)):\n\u001b[0;32m--> 341\u001b[0m         \u001b[39mraise\u001b[39;00m \u001b[39mTypeError\u001b[39;00m(\u001b[39mf\u001b[39m\u001b[39m'\u001b[39m\u001b[39mthe JSON object must be str, bytes or bytearray, \u001b[39m\u001b[39m'\u001b[39m\n\u001b[1;32m    342\u001b[0m                         \u001b[39mf\u001b[39m\u001b[39m'\u001b[39m\u001b[39mnot \u001b[39m\u001b[39m{\u001b[39;00ms\u001b[39m.\u001b[39m\u001b[39m__class__\u001b[39m\u001b[39m.\u001b[39m\u001b[39m__name__\u001b[39m\u001b[39m}\u001b[39;00m\u001b[39m'\u001b[39m)\n\u001b[1;32m    343\u001b[0m     s \u001b[39m=\u001b[39m s\u001b[39m.\u001b[39mdecode(detect_encoding(s), \u001b[39m'\u001b[39m\u001b[39msurrogatepass\u001b[39m\u001b[39m'\u001b[39m)\n\u001b[1;32m    345\u001b[0m \u001b[39mif\u001b[39;00m \u001b[39m\"\u001b[39m\u001b[39mencoding\u001b[39m\u001b[39m\"\u001b[39m \u001b[39min\u001b[39;00m kw:\n",
      "\u001b[0;31mTypeError\u001b[0m: the JSON object must be str, bytes or bytearray, not KeyedVectors"
     ]
    }
   ],
   "source": [
    "tokens = []\n",
    "for i in word_tokenize(GoogleNews):\n",
    "    tokens.append(i)\n",
    "print(len(tokens))\n",
    "\n",
    "print('Size of vocabulary: ', len(GoogleNews), 'tokens')"
   ]
  },
  {
   "cell_type": "markdown",
   "metadata": {},
   "source": [
    "## 3.3 - Average Embedding"
   ]
  },
  {
   "cell_type": "code",
   "execution_count": null,
   "metadata": {},
   "outputs": [],
   "source": []
  },
  {
   "cell_type": "markdown",
   "metadata": {},
   "source": [
    "## 3.4 - Hit Rates"
   ]
  },
  {
   "cell_type": "markdown",
   "metadata": {},
   "source": [
    "## 3.5 - Base MLP"
   ]
  },
  {
   "cell_type": "markdown",
   "metadata": {},
   "source": [
    "## 3.6 - Top MLP"
   ]
  },
  {
   "cell_type": "markdown",
   "metadata": {},
   "source": [
    "## 3.7 - Classification Performance"
   ]
  },
  {
   "cell_type": "markdown",
   "metadata": {},
   "source": [
    "## 3.8 - Rerun Best Performing Model"
   ]
  },
  {
   "cell_type": "markdown",
   "metadata": {},
   "source": [
    "# 2. Words as Features\n",
    "\n",
    "## 2.1 - Processing the dataset: Extracting tokens/words and their frequencies"
   ]
  },
  {
   "cell_type": "code",
   "execution_count": null,
   "metadata": {},
   "outputs": [
    {
     "name": "stdout",
     "output_type": "stream",
     "text": [
      "Size of vocabulary:  30449 tokens\n"
     ]
    }
   ],
   "source": [
    "vectorizer = CountVectorizer()\n",
    "X = vectorizer.fit_transform(posts)\n",
    "\n",
    "# Vectorizing emotions and sentiments\n",
    "emotion_to_index = {}\n",
    "sentiment_to_index = {}\n",
    "index = 0\n",
    "\n",
    "for emotion in emotions:\n",
    "    if emotion in emotion_to_index:\n",
    "        # already seen\n",
    "        continue\n",
    "    emotion_to_index[emotion] = index\n",
    "    index += 1\n",
    "y_emotions = [emotion_to_index[emotion] for emotion in emotions]\n",
    "\n",
    "index = 0\n",
    "for sentiment in sentiments:\n",
    "    if sentiment in sentiment_to_index:\n",
    "        continue\n",
    "    sentiment_to_index[sentiment] = index\n",
    "    index += 1\n",
    "y_sentiments = [sentiment_to_index[sentiment] for sentiment in sentiments]\n",
    "\n",
    "print('Size of vocabulary: ', len(vectorizer.vocabulary_), 'tokens')"
   ]
  },
  {
   "cell_type": "markdown",
   "metadata": {},
   "source": [
    "## 2.2 - Splitting dataset"
   ]
  },
  {
   "cell_type": "code",
   "execution_count": null,
   "metadata": {},
   "outputs": [],
   "source": [
    "X_emotions_train, X_emotions_test, y_emotions_train, y_emotions_test = train_test_split(X, y_emotions, test_size=0.2)\n",
    "X_sentiments_train, X_sentiments_test, y_sentiments_train, y_sentiments_test = train_test_split(X, y_sentiments, test_size=0.2)"
   ]
  },
  {
   "cell_type": "markdown",
   "metadata": {},
   "source": [
    "## 2.3 - Training and testing classifiers for both classifications, using word frequency as features\n",
    "\n",
    "### 2.3.1 - Base-MNB"
   ]
  },
  {
   "cell_type": "code",
   "execution_count": null,
   "metadata": {},
   "outputs": [],
   "source": [
    "base_MNB = MultinomialNB()\n",
    "\n",
    "base_MNB_emotions_model = base_MNB.fit(X_emotions_train, y_emotions_train)\n",
    "y_base_MNB_emotions_pred = base_MNB_emotions_model.predict(X_emotions_test)\n",
    "\n",
    "base_MNB_sentiments_model = base_MNB.fit(X_sentiments_train, y_sentiments_train)\n",
    "y_base_MNB_sentiments_pred = base_MNB_sentiments_model.predict(X_sentiments_test)\n",
    "\n",
    "# print(classification_report(y_emotions_test, y_base_MNB_emotions_pred, target_names=emotion_labels))\n",
    "# print(classification_report(y_sentiments_test, y_base_MNB_sentiments_pred, target_names=sentiment_labels))"
   ]
  },
  {
   "cell_type": "markdown",
   "metadata": {},
   "source": [
    "### 2.3.2 - Base-DT"
   ]
  },
  {
   "cell_type": "code",
   "execution_count": null,
   "metadata": {},
   "outputs": [],
   "source": [
    "base_DT = DecisionTreeClassifier()\n",
    "\n",
    "base_DT_emotions_model = base_DT.fit(X_emotions_train, y_emotions_train)\n",
    "y_base_DT_emotions_pred = base_DT_emotions_model.predict(X_emotions_test)\n",
    "\n",
    "base_DT_sentiments_model = base_DT.fit(X_sentiments_train, y_sentiments_train)\n",
    "y_base_DT_sentiments_pred = base_DT_sentiments_model.predict(X_sentiments_test)"
   ]
  },
  {
   "cell_type": "code",
   "execution_count": null,
   "metadata": {},
   "outputs": [
    {
     "name": "stdout",
     "output_type": "stream",
     "text": [
      "\n",
      "Base-DT with the default parameters\n",
      "\n",
      "Base-DT Emotions Classification Report:\n",
      "                 precision    recall  f1-score   support\n",
      "\n",
      "       sadness       0.21      0.35      0.27       772\n",
      "       neutral       0.46      0.66      0.55     10980\n",
      "          love       0.49      0.58      0.53      1016\n",
      "     gratitude       0.71      0.74      0.72      1434\n",
      "   disapproval       0.23      0.23      0.23      1506\n",
      "     amusement       0.44      0.47      0.45      1191\n",
      "disappointment       0.15      0.13      0.14       942\n",
      "   realization       0.14      0.11      0.12       938\n",
      "    admiration       0.48      0.47      0.47      2117\n",
      "     annoyance       0.20      0.14      0.17      1704\n",
      "     confusion       0.23      0.18      0.20       990\n",
      "      optimism       0.32      0.24      0.27       889\n",
      "    excitement       0.24      0.19      0.21       585\n",
      "        caring       0.27      0.19      0.22       676\n",
      "       remorse       0.35      0.23      0.28       291\n",
      "           joy       0.33      0.21      0.26       880\n",
      "      approval       0.27      0.13      0.18      2298\n",
      " embarrassment       0.27      0.13      0.18       294\n",
      "      surprise       0.34      0.21      0.26       723\n",
      "     curiosity       0.36      0.23      0.28      1190\n",
      "         anger       0.37      0.21      0.27      1101\n",
      "         grief       0.17      0.07      0.10        54\n",
      "       disgust       0.36      0.16      0.22       605\n",
      "         pride       0.23      0.07      0.11       136\n",
      "        desire       0.36      0.17      0.24       406\n",
      "        relief       0.12      0.04      0.06       156\n",
      "          fear       0.51      0.29      0.37       350\n",
      "   nervousness       0.24      0.11      0.15       140\n",
      "\n",
      "      accuracy                           0.40     34364\n",
      "     macro avg       0.32      0.25      0.27     34364\n",
      "  weighted avg       0.38      0.40      0.38     34364\n",
      "\n",
      "\n",
      "Base-DT Sentiments Classification Report:\n",
      "               precision    recall  f1-score   support\n",
      "\n",
      "    negative       0.49      0.64      0.55      7651\n",
      "     neutral       0.51      0.53      0.52     11097\n",
      "    positive       0.69      0.60      0.64     11838\n",
      "   ambiguous       0.44      0.30      0.35      3778\n",
      "\n",
      "    accuracy                           0.55     34364\n",
      "   macro avg       0.53      0.52      0.52     34364\n",
      "weighted avg       0.56      0.55      0.55     34364\n",
      "\n",
      "\n",
      "Base-DT Emotions Confusion Matrix:\n",
      " [[ 272  219    7    9   31   11   50   16    3   22    4   13    6   15\n",
      "    32    5   11    7    4    5    7    4    7    0    3    1    3    5]\n",
      " [ 284 7283  146   85  413  206  189  219  251  304  212  146   91  111\n",
      "    17   78  340   27  100  197  125    3   46    5   48    8   33   13]\n",
      " [  11  207  585    9   13    9    8    3   73    9    6    7    7    7\n",
      "     3   30   16    0    2    3    3    0    1    1    1    1    1    0]\n",
      " [  12  115   21 1062    9   10    8    6   75   10    2   19   10   11\n",
      "    17   24    8    0    2    4    2    1    0    1    0    3    1    1]\n",
      " [  76  701    6   14  347   24   58   24   15   68   32   14    3    9\n",
      "     4    5   31    3    8   11   29    0   13    0    3    2    5    1]\n",
      " [  16  357   16    8   20  556   10   12   40   18   10   15   10    4\n",
      "     2   51    8    3    6   12    6    0    6    0    1    0    2    2]\n",
      " [ 118  378   10    5   79   24  120   20   10   41   11    8    2   10\n",
      "     5    5   22    8   13   11   17    1   10    2    6    0    0    6]\n",
      " [  25  466   17    8   63   27   22  102   22   35   11   13    9    6\n",
      "     8    4   53    5   14    6   12    0    1    1    5    1    2    0]\n",
      " [  21  511  119   94   21   51   11   27  986   18   14   27   39   14\n",
      "     1   41   60    2   24   11    3    0    1    8    7    3    3    0]\n",
      " [  68  753   16   20  138   49   71   32   29  246   27   15   14    8\n",
      "     4    7   30   11   14   21   89    3   22    0    4    3    8    2]\n",
      " [  23  493   10    5   43   14   15   19   12   27  176    9    9    2\n",
      "     1    2   18    1    8   83    6    0    4    2    1    1    6    0]\n",
      " [  13  334   19   19   19   14   17   15   60   24    9  211   14   26\n",
      "     2   16   37    2    4    7    4    0    1    1   19    2    0    0]\n",
      " [   2  214   19   15   13   24    6    7   58   10    5    7  114    5\n",
      "     1   26   11    0   20   19    2    0    1    0    2    1    1    2]\n",
      " [  29  279   18   21   21    7   14   13   22   19    4   34    3  127\n",
      "     5   11   36    0    1    5    1    0    0    0    1    1    1    3]\n",
      " [  71   52    2   14   14    5   15   11    2   11    3    2    1    5\n",
      "    67    1    3    4    1    0    0    2    2    0    0    0    1    2]\n",
      " [   9  246   76   42    8  105    5   11   72   11    4   14   34   15\n",
      "     0  186   21    2    5    1    1    0    0    2    5    4    1    0]\n",
      " [  52 1129   57   28   81   40   35   78  157   76   37   36   35   38\n",
      "     7   29  305    6    8   19   11    1    7    3   12    7    3    1]\n",
      " [  17  118    2    1   22   11   13    5    3   20    8    6    0    2\n",
      "     4    2    5   39    3    3    2    0    5    0    0    0    2    1]\n",
      " [  10  243    6    7   26   17   23   30   44   26   21    5   36    3\n",
      "     0    5   14    4  151   28   11    0    5    1    1    2    3    1]\n",
      " [  13  525   10    7   25   16   16   19   21   34  125    9   13    9\n",
      "     3    4   22    2   32  270   11    0    1    1    0    1    0    1]\n",
      " [  31  414    5    7   66   24   36   20   21  117   11    7    8    8\n",
      "     5    4   15    3   13   12  235    1   24    1    1    3    5    4]\n",
      " [  10   17    0    2    3    2    6    1    1    1    0    0    1    0\n",
      "     0    1    0    2    0    0    1    4    0    0    0    0    2    0]\n",
      " [  37  228    5    2   33    9   31   11   11   59    8    3    2    0\n",
      "     0    1    5    7    2    5   38    0   96    2    1    0    8    1]\n",
      " [   3   57    1    2    4    0    3    1   19    0    2    9    3    3\n",
      "     0    9    7    1    0    0    1    0    0   10    1    0    0    0]\n",
      " [   7  178   13    6    7    4    4    8   13   10    2   20    6   12\n",
      "     1    9   18    2    1    6    2    0    2    2   71    1    0    1]\n",
      " [   3   56    3   12    4    4    5    4    9    2    1    6    4   16\n",
      "     0    9   12    0    0    0    0    0    0    0    0    6    0    0]\n",
      " [  25  113    2    1   13    5    9    7    8   13    2    5    2    5\n",
      "     0    0    4    3    6    2    8    1    8    1    2    0  101    4]\n",
      " [  13   53    0    0    6    5    8    2    1    4    3    2    2    6\n",
      "     0    0    5    1    0    0    2    2    1    0    0    0    8   16]]\n",
      "\n",
      "Base-DT Sentiments Confusion Matrix:\n",
      " [[4867 1664  770  350]\n",
      " [2703 5863 1818  713]\n",
      " [1531 2804 7129  374]\n",
      " [ 842 1263  552 1121]]\n"
     ]
    }
   ],
   "source": [
    "print(\"\\nBase-DT with the default parameters\")\n",
    "\n",
    "# evaluate classifier\n",
    "print(\"\\nBase-DT Emotions Classification Report:\\n\", classification_report(y_emotions_test, y_base_DT_emotions_pred, target_names=emotion_labels))\n",
    "print(\"\\nBase-DT Sentiments Classification Report:\\n\", classification_report(y_sentiments_test, y_base_DT_sentiments_pred, target_names=sentiment_labels))\n",
    "\n",
    "# show confusion Matrix\n",
    "print(\"\\nBase-DT Emotions Confusion Matrix:\\n\", confusion_matrix(y_emotions_test, y_base_DT_emotions_pred))\n",
    "print(\"\\nBase-DT Sentiments Confusion Matrix:\\n\", confusion_matrix(y_sentiments_test, y_base_DT_sentiments_pred))"
   ]
  },
  {
   "cell_type": "markdown",
   "metadata": {},
   "source": [
    "### 2.3.3 - Base-MLP"
   ]
  },
  {
   "cell_type": "code",
   "execution_count": null,
   "metadata": {},
   "outputs": [
    {
     "name": "stderr",
     "output_type": "stream",
     "text": [
      "/usr/local/lib/python3.8/site-packages/sklearn/neural_network/_multilayer_perceptron.py:709: UserWarning: Training interrupted by user.\n",
      "  warnings.warn(\"Training interrupted by user.\")\n"
     ]
    }
   ],
   "source": [
    "base_MLP = MLPClassifier(max_iter=5) ### talk about low epochs in analysis\n",
    "\n",
    "base_MLP_emotions_model = base_MLP.fit(X_emotions_train, y_emotions_train)\n",
    "y_base_MLP_emotions_pred = base_MLP_emotions_model.predict(X_emotions_test)\n",
    "\n",
    "base_MLP_sentiments_model = base_MLP.fit(X_sentiments_train, y_sentiments_train)\n",
    "y_base_MLP_sentiments_pred = base_MLP_sentiments_model.predict(X_sentiments_test)"
   ]
  },
  {
   "cell_type": "code",
   "execution_count": null,
   "metadata": {},
   "outputs": [
    {
     "name": "stdout",
     "output_type": "stream",
     "text": [
      "\n",
      "Base-MLP with the default parameters\n",
      "\n",
      "Base-MLP Emotions Classification Report:\n",
      "                 precision    recall  f1-score   support\n",
      "\n",
      "       sadness       0.35      0.30      0.33       783\n",
      "       neutral       0.47      0.62      0.53     11094\n",
      "          love       0.52      0.62      0.57      1015\n",
      "     gratitude       0.78      0.76      0.77      1409\n",
      "   disapproval       0.22      0.22      0.22      1505\n",
      "     amusement       0.51      0.57      0.54      1217\n",
      "disappointment       0.21      0.12      0.16       930\n",
      "   realization       0.19      0.10      0.13       999\n",
      "    admiration       0.47      0.53      0.50      2065\n",
      "     annoyance       0.20      0.15      0.17      1656\n",
      "     confusion       0.26      0.18      0.21      1004\n",
      "      optimism       0.40      0.31      0.35       891\n",
      "    excitement       0.25      0.21      0.23       575\n",
      "        caring       0.26      0.19      0.22       713\n",
      "       remorse       0.39      0.46      0.42       296\n",
      "           joy       0.34      0.28      0.30       880\n",
      "      approval       0.26      0.18      0.21      2234\n",
      " embarrassment       0.27      0.18      0.22       296\n",
      "      surprise       0.35      0.32      0.34       710\n",
      "     curiosity       0.36      0.24      0.29      1171\n",
      "         anger       0.33      0.29      0.31      1039\n",
      "         grief       0.22      0.07      0.11        72\n",
      "       disgust       0.31      0.24      0.27       599\n",
      "         pride       0.16      0.08      0.11       137\n",
      "        desire       0.31      0.23      0.27       435\n",
      "        relief       0.11      0.07      0.09       134\n",
      "          fear       0.41      0.40      0.41       346\n",
      "   nervousness       0.22      0.17      0.19       159\n",
      "\n",
      "      accuracy                           0.41     34364\n",
      "     macro avg       0.33      0.29      0.30     34364\n",
      "  weighted avg       0.39      0.41      0.39     34364\n",
      "\n",
      "\n",
      "Base-MLP Sentiments Classification Report:\n",
      "               precision    recall  f1-score   support\n",
      "\n",
      "    negative       0.56      0.54      0.55      7733\n",
      "     neutral       0.51      0.50      0.50     10954\n",
      "    positive       0.67      0.71      0.69     11968\n",
      "   ambiguous       0.40      0.37      0.38      3709\n",
      "\n",
      "    accuracy                           0.57     34364\n",
      "   macro avg       0.53      0.53      0.53     34364\n",
      "weighted avg       0.56      0.57      0.57     34364\n",
      "\n",
      "\n",
      "Base-MLP Emotions Confusion Matrix:\n",
      " [[ 235  253    1    7   18   11   36   10    5   29    6    9    3   10\n",
      "    64    5   21    7    3    3   14    5    9    0    7    0    6    6]\n",
      " [ 137 6826  163   66  474  221  134  164  359  348  221  151   95  133\n",
      "    36  112  505   45  139  240  198    5   99   17   89   24   64   29]\n",
      " [   7  168  625    7   10   17    5    5   94    9    3    2    6    6\n",
      "     0   21   19    2    1    1    2    0    1    0    3    0    1    0]\n",
      " [   5   55   18 1077    6   14    2    1   92    2    3   20   13   12\n",
      "    16   36   13    0    3    1    2    0    2    4    5    7    0    0]\n",
      " [  22  662    9    7  334   19   30   24   24   95   34   16   10   15\n",
      "     8    8   55   10   13   19   41    0   35    1    4    1    7    2]\n",
      " [   5  215   14    6   22  691    6   13   45   35    7    3   19    1\n",
      "     1   71   12    4   20    7    9    0    6    0    3    0    2    0]\n",
      " [  57  393    6    6   70   15  115   17   12   49   11    7    6    7\n",
      "    15    4   31   12   18    3   22    1   23    1    5    4   11    9]\n",
      " [  13  509   16    3   58   16   17   99   31   38   23    5    8   11\n",
      "     9    5   57    5   25    6   13    0    6    2    9    4    8    3]\n",
      " [   6  382  105   59   21   39   14   10 1086   16    5   25   43   18\n",
      "     0   49   81    4   40   11    8    0    5   16    7    7    6    2]\n",
      " [  30  712   18   13  106   57   31   21   24  255   33   10    8   11\n",
      "     7   11   53   14   21   24  123    1   37    2    9    1   17    7]\n",
      " [   7  464    9    3   48   18   13   14   19   27  180   11    8    9\n",
      "     4    3   34    3   13   90   14    0    5    1    1    0    3    3]\n",
      " [   3  272   16   13   19    9   16    7   57   15   11  276   13   29\n",
      "     0   16   52    3    7    5    9    0    2    3   29    5    2    2]\n",
      " [   2  178   22   15    5   17    5    3   64    9    1    5  122    4\n",
      "     1   30   15    0   31   14   11    0    4    0   11    1    3    2]\n",
      " [  16  321   13   15   29    6   12    5   19   17    5   30    4  132\n",
      "     6   18   29    1    2    4    9    1    2    1    6    2    4    4]\n",
      " [  30   43    3   15   12    0    6    8    1    5    2    4    0    7\n",
      "   136    1    5    2    0    2    5    0    1    1    4    0    0    3]\n",
      " [   6  220   56   17    6  104    9    8   74    7    2   11   44   15\n",
      "     1  242   23    0    6    6    5    0    0    2    4    9    3    0]\n",
      " [  24 1044   51   16   86   39   16   46  150   57   33   48   30   43\n",
      "     6   31  396    2   17   23   17    1   17    0   15   10   13    3]\n",
      " [   7  106    1    3   15    5    4    3    3   19    5    1    1    4\n",
      "    19    2    7   54    6    4    8    0   12    0    1    0    5    1]\n",
      " [   3  267    3    8   10    5    4   16   42   16    9    3   20    2\n",
      "     1    4   15    3  227   12   15    0   10    1    3    3    6    2]\n",
      " [   3  540   10    7   15   12    8   18   35   31   61   11   27    8\n",
      "     3    7   21    3   36  285   17    0    1    1    7    0    2    2]\n",
      " [   4  385    5    3   46   12   10    9   14  119   16    3    6    6\n",
      "     2    4   20    7    3   14  306    1   27    1    4    0   12    0]\n",
      " [   9   24    1    1    1    1    4    2    1    2    0    1    0    2\n",
      "     6    1    2    2    0    0    5    5    0    0    1    0    0    1]\n",
      " [  13  186    3    2   39    4   19    4    5   51    7    5    1    2\n",
      "     2    4   10    9    3    5   62    1  145    2    0    0   15    0]\n",
      " [   3   59    1    3    3    3    3    1   14    2    1    3    4    1\n",
      "     0    5   12    2    1    2    1    0    0   11    0    1    0    1]\n",
      " [   3  168   18    6   10    6    7    3   13    6    1   33    5    7\n",
      "     3   10   18    1    2    2    4    0    6    0  102    0    1    0]\n",
      " [   2   52    3   10    4    0    1    2    5    2    0    2    0    7\n",
      "     0   15   12    0    0    0    2    0    0    0    2   10    0    3]\n",
      " [   6   93    2    1   10    8    7    6    5   15    3    0    0    3\n",
      "     1    1    8    2    3    5    2    2   11    0    2    0  140   10]\n",
      " [   5   58    0    0    8    2    4    3    2    7    4    1    1    7\n",
      "     3    0    6    3    0    4    2    0    3    0    1    1    7   27]]\n",
      "\n",
      "Base-MLP Sentiments Confusion Matrix:\n",
      " [[4208 1939 1090  496]\n",
      " [1926 5485 2513 1030]\n",
      " [ 863 2167 8456  482]\n",
      " [ 534 1190  628 1357]]\n"
     ]
    }
   ],
   "source": [
    "print(\"\\nBase-MLP with the default parameters\")\n",
    "\n",
    "# evaluate classifier\n",
    "print(\"\\nBase-MLP Emotions Classification Report:\\n\", classification_report(y_emotions_test, y_base_MLP_emotions_pred, target_names=emotion_labels))\n",
    "print(\"\\nBase-MLP Sentiments Classification Report:\\n\", classification_report(y_sentiments_test, y_base_MLP_sentiments_pred, target_names=sentiment_labels))\n",
    "\n",
    "# show confusion Matrix\n",
    "print(\"\\nBase-MLP Emotions Confusion Matrix:\\n\", confusion_matrix(y_emotions_test, y_base_MLP_emotions_pred))\n",
    "print(\"\\nBase-MLP Sentiments Confusion Matrix:\\n\", confusion_matrix(y_sentiments_test, y_base_MLP_sentiments_pred))"
   ]
  },
  {
   "cell_type": "markdown",
   "metadata": {},
   "source": [
    "### 2.3.4 - Top-MNB"
   ]
  },
  {
   "cell_type": "code",
   "execution_count": null,
   "metadata": {},
   "outputs": [],
   "source": [
    "top_MNB_hyper_params = {\n",
    "    # Because an alpha too small will result in numeric errors, 0 is set as 1.0e-10\n",
    "    'alpha': [1.0e-10, 0.5, 1.5, 3.0]\n",
    "}\n",
    "\n",
    "top_MNB_emotions = MultinomialNB(class_prior=emotion_freq)\n",
    "top_MNB_sentiments = MultinomialNB(class_prior=sentiment_freq)\n",
    "\n",
    "top_MNB_emotions_grid_search = GridSearchCV(estimator=top_MNB_emotions, param_grid=top_MNB_hyper_params)\n",
    "top_MNB_sentiments_grid_search = GridSearchCV(estimator=top_MNB_sentiments, param_grid=top_MNB_hyper_params)\n",
    "\n",
    "top_MNB_emotions_model = top_MNB_emotions_grid_search.fit(X_emotions_train, y_emotions_train)\n",
    "y_top_MNB_emotions_pred = top_MNB_emotions_model.predict(X_emotions_test)\n",
    "# print('best params for emotions MNB: ', top_MNB_emotions_model.best_params_)\n",
    "\n",
    "top_MNB_sentiments_model = top_MNB_sentiments_grid_search.fit(X_sentiments_train, y_sentiments_train)\n",
    "y_top_MNB_sentiments_pred = top_MNB_sentiments_model.predict(X_sentiments_test)\n",
    "# print('best params for sentiments MNB: ', top_MNB_sentiments_model.best_params_)"
   ]
  },
  {
   "cell_type": "code",
   "execution_count": null,
   "metadata": {},
   "outputs": [
    {
     "name": "stdout",
     "output_type": "stream",
     "text": [
      "\n",
      "Top-MNB using GridSearchCV to find best hyper parameters with alphafloat\n",
      "\n",
      "Top-MNB Emotions Classification Report:\n",
      "                 precision    recall  f1-score   support\n",
      "\n",
      "       sadness       0.38      0.20      0.26       783\n",
      "       neutral       0.40      0.72      0.51     11094\n",
      "          love       0.56      0.46      0.50      1015\n",
      "     gratitude       0.70      0.73      0.72      1409\n",
      "   disapproval       0.21      0.13      0.16      1505\n",
      "     amusement       0.50      0.44      0.47      1217\n",
      "disappointment       0.21      0.07      0.11       930\n",
      "   realization       0.20      0.07      0.10       999\n",
      "    admiration       0.46      0.50      0.48      2065\n",
      "     annoyance       0.19      0.12      0.15      1656\n",
      "     confusion       0.25      0.12      0.16      1004\n",
      "      optimism       0.40      0.26      0.31       891\n",
      "    excitement       0.24      0.08      0.12       575\n",
      "        caring       0.26      0.15      0.19       713\n",
      "       remorse       0.45      0.15      0.22       296\n",
      "           joy       0.37      0.20      0.26       880\n",
      "      approval       0.24      0.13      0.17      2234\n",
      " embarrassment       0.53      0.07      0.12       296\n",
      "      surprise       0.34      0.17      0.23       710\n",
      "     curiosity       0.33      0.17      0.23      1171\n",
      "         anger       0.32      0.18      0.23      1039\n",
      "         grief       0.00      0.00      0.00        72\n",
      "       disgust       0.33      0.14      0.20       599\n",
      "         pride       0.25      0.02      0.04       137\n",
      "        desire       0.37      0.11      0.17       435\n",
      "        relief       0.23      0.02      0.04       134\n",
      "          fear       0.47      0.10      0.17       346\n",
      "   nervousness       0.00      0.00      0.00       159\n",
      "\n",
      "      accuracy                           0.39     34364\n",
      "     macro avg       0.33      0.20      0.23     34364\n",
      "  weighted avg       0.36      0.39      0.35     34364\n",
      "\n",
      "\n",
      "Top-MNB Sentiments Classification Report:\n",
      "               precision    recall  f1-score   support\n",
      "\n",
      "    negative       0.55      0.51      0.53      7733\n",
      "     neutral       0.48      0.52      0.50     10954\n",
      "    positive       0.62      0.72      0.67     11968\n",
      "   ambiguous       0.44      0.20      0.28      3709\n",
      "\n",
      "    accuracy                           0.55     34364\n",
      "   macro avg       0.52      0.49      0.49     34364\n",
      "weighted avg       0.54      0.55      0.54     34364\n",
      "\n",
      "Emotions Confusion Matrix:\n",
      " [[ 154  450    2   18   19    8   27    3    4   26    1    4    1   10\n",
      "    17    5   11    0    2    3    9    0    5    0    2    0    2    0]\n",
      " [  86 7939  119  102  340  189   90  108  368  267  143  124   53  128\n",
      "    16   71  398    6   84  200  133    0   60    3   40    3   20    4]\n",
      " [   3  351  463    7    6   11    3    0  115    4    1    4    0    2\n",
      "     0   14   23    0    0    7    0    0    0    0    1    0    0    0]\n",
      " [   1  170   10 1035    6   17    2    1   72    4    6   21    2   10\n",
      "     4   30   10    0    1    1    3    0    0    0    2    1    0    0]\n",
      " [  13  931    3   11  200   20   12    9   23   74   29   12    2   14\n",
      "     0    6   77    1    7   11   26    0   20    0    3    0    1    0]\n",
      " [   1  463    8   12   13  532    4   10   51   22    8    4    9    2\n",
      "     0   31   12    0   14    5   12    0    2    0    2    0    0    0]\n",
      " [  33  590    2    8   44    6   69   10   15   42    7   10    3    8\n",
      "     3    2   28    1   11    5   15    0   13    0    3    0    2    0]\n",
      " [   7  712    6    7   30    9   10   67   26   24   16    8    1    9\n",
      "     2    4   32    1   14    5    6    0    0    0    2    0    1    0]\n",
      " [   4  643   71   59   15   19    5    9 1035   10    3   20    5   12\n",
      "     0   35   66    1   24   17    3    0    1    4    3    1    0    0]\n",
      " [  18  998    8   20   64   48   26   16   30  195   25   10    3    7\n",
      "     0    5   45    1   12   20   86    0   16    0    1    0    2    0]\n",
      " [   3  658    1    6   31   14    6    9   20   15  120    1    3    3\n",
      "     0    0   30    0    8   61    7    0    5    0    1    0    2    0]\n",
      " [   0  448   10   22   12    6    6    5   47    6    5  228    3   27\n",
      "     0   11   39    0    1    4    2    0    0    0    8    1    0    0]\n",
      " [   0  286   14   20    5   15    2    3   71    7    0    8   44    1\n",
      "     0   37   14    0   25   11    7    0    1    0    2    0    2    0]\n",
      " [   6  445    6   25   14    2    2    1   15   12    4   25    2  109\n",
      "     2    6   18    0    2    5    4    0    2    0    5    0    1    0]\n",
      " [  25  165    2   14   11    0    7    6    0    2    1    2    0    7\n",
      "    43    0    8    0    0    1    1    0    0    0    1    0    0    0]\n",
      " [   3  374   48   38    5   77    3    5   79    8    2    9   10   10\n",
      "     1  176   18    0    4    3    4    0    0    0    0    2    1    0]\n",
      " [  12 1418   33   30   52   35   10   26  137   46   22   24   11   22\n",
      "     1   14  298    1    9   12    9    0    7    0    2    1    2    0]\n",
      " [   5  178    1    4    9    5    5    5    5   18    5    3    1    3\n",
      "     4    0   10   21    1    2    4    0    7    0    0    0    0    0]\n",
      " [   2  425    1    6    7    2    3    8   42   12    9    3    4    1\n",
      "     0    6   19    0  123   16   11    0    7    0    0    1    2    0]\n",
      " [   2  745    3   10   15   10    4   10   30   20   44    4    6    7\n",
      "     0    2   29    0   16  204    8    0    0    0    2    0    0    0]\n",
      " [   1  592    6    2   26    8    9    7   18  122    9    1    9    4\n",
      "     0    2   14    0    1    7  186    0   10    1    2    0    1    1]\n",
      " [  10   35    2    1    0    2    4    1    0    2    1    2    0    4\n",
      "     2    0    1    0    0    1    3    0    0    0    0    0    0    1]\n",
      " [   4  302    3    2   27    6   11    5   16   56    5    4    2    1\n",
      "     1    2   18    4    2    3   36    0   86    1    0    0    2    0]\n",
      " [   0   84    1    5    1    2    0    1   17    0    2    2    2    3\n",
      "     0    3    8    1    0    2    0    0    0    3    0    0    0    0]\n",
      " [   0  282    7    5    5    4    3    0   10    5    2   29    4    6\n",
      "     0    2   11    0    3    1    4    0    4    0   48    0    0    0]\n",
      " [   1   79    2   11    2    0    1    1    7    4    0    4    0    4\n",
      "     0    6    7    0    0    1    1    0    0    0    0    3    0    0]\n",
      " [   8  212    1    1    7   12    6    8    6   13    3    1    0    2\n",
      "     0    0    7    1    2    4    6    0    9    0    1    0   36    0]\n",
      " [   6  112    0    1    2    3    5    1    2    4    0    1    0    5\n",
      "     0    0    8    1    1    3    1    0    3    0    0    0    0    0]]\n",
      "Sentiments Confusion Matrix:\n",
      " [[3936 2275 1303  219]\n",
      " [1815 5669 2964  506]\n",
      " [ 821 2336 8574  237]\n",
      " [ 561 1518  881  749]]\n"
     ]
    },
    {
     "name": "stderr",
     "output_type": "stream",
     "text": [
      "/usr/local/lib/python3.8/site-packages/sklearn/metrics/_classification.py:1334: UndefinedMetricWarning: Precision and F-score are ill-defined and being set to 0.0 in labels with no predicted samples. Use `zero_division` parameter to control this behavior.\n",
      "  _warn_prf(average, modifier, msg_start, len(result))\n",
      "/usr/local/lib/python3.8/site-packages/sklearn/metrics/_classification.py:1334: UndefinedMetricWarning: Precision and F-score are ill-defined and being set to 0.0 in labels with no predicted samples. Use `zero_division` parameter to control this behavior.\n",
      "  _warn_prf(average, modifier, msg_start, len(result))\n",
      "/usr/local/lib/python3.8/site-packages/sklearn/metrics/_classification.py:1334: UndefinedMetricWarning: Precision and F-score are ill-defined and being set to 0.0 in labels with no predicted samples. Use `zero_division` parameter to control this behavior.\n",
      "  _warn_prf(average, modifier, msg_start, len(result))\n"
     ]
    }
   ],
   "source": [
    "print(\"\\nTop-MNB using GridSearchCV to find best hyper parameters with alphafloat\")\n",
    "\n",
    "# evaluate classifier\n",
    "print(\"\\nTop-MNB Emotions Classification Report:\\n\", classification_report(y_emotions_test, y_top_MNB_emotions_pred, target_names=emotion_labels))\n",
    "print(\"\\nTop-MNB Sentiments Classification Report:\\n\", classification_report(y_sentiments_test, y_top_MNB_sentiments_pred, target_names=sentiment_labels))\n",
    "\n",
    "# show confusion Matrix\n",
    "print(\"Emotions Confusion Matrix:\\n\", confusion_matrix(y_emotions_test, y_top_MNB_emotions_pred))\n",
    "print(\"Sentiments Confusion Matrix:\\n\", confusion_matrix(y_sentiments_test, y_top_MNB_sentiments_pred))"
   ]
  },
  {
   "cell_type": "markdown",
   "metadata": {},
   "source": [
    "### 2.3.5 - Top-DT"
   ]
  },
  {
   "cell_type": "code",
   "execution_count": null,
   "metadata": {},
   "outputs": [],
   "source": [
    "top_DT_hyper_params = {\n",
    "    'criterion': ['gini', 'entropy'],\n",
    "    'max_depth': [5, 10],\n",
    "    'min_samples_split': [2, 3, 4]\n",
    "}\n",
    "\n",
    "top_DT = DecisionTreeClassifier()\n",
    "top_DT_grid_search = GridSearchCV(estimator=top_DT, param_grid=top_DT_hyper_params)\n",
    "\n",
    "top_DT_emotions_model = top_DT_grid_search.fit(X_emotions_train, y_emotions_train)\n",
    "y_top_DT_emotions_pred = top_DT_emotions_model.predict(X_emotions_test)\n",
    "\n",
    "top_DT_sentiments_model = top_DT_grid_search.fit(X_sentiments_train, y_sentiments_train)\n",
    "y_top_DT_sentiments_pred = top_DT_sentiments_model.predict(X_sentiments_test)"
   ]
  },
  {
   "cell_type": "code",
   "execution_count": null,
   "metadata": {},
   "outputs": [
    {
     "name": "stdout",
     "output_type": "stream",
     "text": [
      "\n",
      "Top-DT using GridSearchCV with criterion, max_depth and min_samples_split\n",
      "\n",
      "Top-DT Emotions Classification Report:\n",
      "                 precision    recall  f1-score   support\n",
      "\n",
      "       sadness       0.07      0.00      0.00       783\n",
      "       neutral       0.36      0.94      0.52     11094\n",
      "          love       0.57      0.58      0.58      1015\n",
      "     gratitude       0.89      0.72      0.80      1409\n",
      "   disapproval       0.00      0.00      0.00      1505\n",
      "     amusement       0.57      0.35      0.44      1217\n",
      "disappointment       0.00      0.00      0.00       930\n",
      "   realization       0.00      0.00      0.00       999\n",
      "    admiration       0.40      0.29      0.33      2065\n",
      "     annoyance       0.14      0.00      0.00      1656\n",
      "     confusion       0.33      0.00      0.00      1004\n",
      "      optimism       0.46      0.26      0.33       891\n",
      "    excitement       0.00      0.00      0.00       575\n",
      "        caring       1.00      0.00      0.00       713\n",
      "       remorse       0.39      0.53      0.45       296\n",
      "           joy       0.67      0.00      0.00       880\n",
      "      approval       0.00      0.00      0.00      2234\n",
      " embarrassment       0.00      0.00      0.00       296\n",
      "      surprise       0.00      0.00      0.00       710\n",
      "     curiosity       0.18      0.00      0.00      1171\n",
      "         anger       0.00      0.00      0.00      1039\n",
      "         grief       0.00      0.00      0.00        72\n",
      "       disgust       0.50      0.00      0.00       599\n",
      "         pride       0.00      0.00      0.00       137\n",
      "        desire       0.25      0.00      0.00       435\n",
      "        relief       0.00      0.00      0.00       134\n",
      "          fear       0.00      0.00      0.00       346\n",
      "   nervousness       0.00      0.00      0.00       159\n",
      "\n",
      "      accuracy                           0.39     34364\n",
      "     macro avg       0.24      0.13      0.12     34364\n",
      "  weighted avg       0.30      0.39      0.27     34364\n",
      "\n",
      "\n",
      "Top-DT Sentiments Classification Report:\n",
      "               precision    recall  f1-score   support\n",
      "\n",
      "    negative       0.66      0.04      0.08      7733\n",
      "     neutral       0.36      0.94      0.52     10954\n",
      "    positive       0.78      0.34      0.48     11968\n",
      "   ambiguous       0.33      0.00      0.00      3709\n",
      "\n",
      "    accuracy                           0.43     34364\n",
      "   macro avg       0.53      0.33      0.27     34364\n",
      "weighted avg       0.57      0.43      0.35     34364\n",
      "\n",
      "\n",
      "Top-DT Emotions Confusion Matrix:\n",
      " [[    1   673     2     3     0     4     0     0    11     0     0     7\n",
      "      0     0    82     0     0     0     0     0     0     0     0     0\n",
      "      0     0     0     0]\n",
      " [    0 10424   133    37     1   120     0     0   268     0     0    68\n",
      "      0     0    39     0     0     0     0     1     0     0     0     0\n",
      "      3     0     0     0]\n",
      " [    1   381   592     3     0     9     1     0    24     0     0     1\n",
      "      0     0     0     1     0     0     0     2     0     0     0     0\n",
      "      0     0     0     0]\n",
      " [    2   256    15  1014     0     7     0     1    53     4     0    29\n",
      "      1     0    20     0     0     0     0     3     0     0     1     0\n",
      "      0     3     0     0]\n",
      " [    2  1423    12     4     0    10     0     0    32     0     0    11\n",
      "      0     0    11     0     0     0     0     0     0     0     0     0\n",
      "      0     0     0     0]\n",
      " [    0   714    15     5     0   430     0     1    41     1     2     3\n",
      "      1     0     3     0     0     0     0     0     1     0     0     0\n",
      "      0     0     0     0]\n",
      " [    0   860     7     2     1     7     0     0    29     0     0     6\n",
      "      0     0    18     0     0     0     0     0     0     0     0     0\n",
      "      0     0     0     0]\n",
      " [    0   943    13     2     0     6     0     0    22     0     0     4\n",
      "      0     0     9     0     0     0     0     0     0     0     0     0\n",
      "      0     0     0     0]\n",
      " [    0  1359    69    14     0     9     0     0   597     0     0    16\n",
      "      1     0     0     0     0     0     0     0     0     0     0     0\n",
      "      0     0     0     0]\n",
      " [    0  1558    11    12     1    27     0     0    32     1     0     7\n",
      "      0     0     7     0     0     0     0     0     0     0     0     0\n",
      "      0     0     0     0]\n",
      " [    0   957     8     2     0     9     0     0    22     0     1     1\n",
      "      0     0     3     0     0     0     0     1     0     0     0     0\n",
      "      0     0     0     0]\n",
      " [    2   582    15     2     0     9     0     0    46     0     0   232\n",
      "      1     0     1     0     0     0     0     1     0     0     0     0\n",
      "      0     0     0     0]\n",
      " [    0   498    16     5     0     4     0     0    47     0     0     3\n",
      "      0     0     2     0     0     0     0     0     0     0     0     0\n",
      "      0     0     0     0]\n",
      " [    1   627    13     6     0     3     0     0    16     0     0    37\n",
      "      0     1     9     0     0     0     0     0     0     0     0     0\n",
      "      0     0     0     0]\n",
      " [    3   131     0     1     1     0     0     0     1     0     0     1\n",
      "      0     0   158     0     0     0     0     0     0     0     0     0\n",
      "      0     0     0     0]\n",
      " [    1   728    41     3     0    36     0     0    58     0     0    10\n",
      "      0     0     1     2     0     0     0     0     0     0     0     0\n",
      "      0     0     0     0]\n",
      " [    0  2049    29     5     0    19     0     0   106     1     0    18\n",
      "      0     0     6     0     0     0     0     0     0     0     0     0\n",
      "      0     1     0     0]\n",
      " [    0   275     1     0     0     0     0     0     3     0     0     1\n",
      "      0     0    16     0     0     0     0     0     0     0     0     0\n",
      "      0     0     0     0]\n",
      " [    1   676     3     5     0     3     0     0    20     0     0     1\n",
      "      0     0     1     0     0     0     0     0     0     0     0     0\n",
      "      0     0     0     0]\n",
      " [    0  1123    10     3     0    10     0     0    17     0     0     2\n",
      "      0     0     4     0     0     0     0     2     0     0     0     0\n",
      "      0     0     0     0]\n",
      " [    0   992    10     3     1     7     0     0    16     0     0     4\n",
      "      0     0     6     0     0     0     0     0     0     0     0     0\n",
      "      0     0     0     0]\n",
      " [    0    59     1     0     0     1     0     0     2     0     0     2\n",
      "      0     0     7     0     0     0     0     0     0     0     0     0\n",
      "      0     0     0     0]\n",
      " [    0   577     4     1     0     4     0     0     7     0     0     4\n",
      "      0     0     1     0     0     0     0     0     0     0     1     0\n",
      "      0     0     0     0]\n",
      " [    0   121     1     1     0     2     0     0    11     0     0     1\n",
      "      0     0     0     0     0     0     0     0     0     0     0     0\n",
      "      0     0     0     0]\n",
      " [    0   372    16     1     0     3     0     0     8     0     0    32\n",
      "      0     0     1     0     0     0     0     1     0     0     0     0\n",
      "      1     0     0     0]\n",
      " [    0   118     1     4     0     1     0     0     8     0     0     2\n",
      "      0     0     0     0     0     0     0     0     0     0     0     0\n",
      "      0     0     0     0]\n",
      " [    0   327     3     0     0     9     0     0     4     0     0     2\n",
      "      0     0     1     0     0     0     0     0     0     0     0     0\n",
      "      0     0     0     0]\n",
      " [    0   156     0     0     0     0     0     0     0     0     0     0\n",
      "      0     0     3     0     0     0     0     0     0     0     0     0\n",
      "      0     0     0     0]]\n",
      "\n",
      "Top-DT Sentiments Confusion Matrix:\n",
      " [[  322  7054   356     1]\n",
      " [   64 10256   632     2]\n",
      " [   85  7771  4107     5]\n",
      " [   18  3529   158     4]]\n"
     ]
    },
    {
     "name": "stderr",
     "output_type": "stream",
     "text": [
      "/usr/local/lib/python3.8/site-packages/sklearn/metrics/_classification.py:1334: UndefinedMetricWarning: Precision and F-score are ill-defined and being set to 0.0 in labels with no predicted samples. Use `zero_division` parameter to control this behavior.\n",
      "  _warn_prf(average, modifier, msg_start, len(result))\n",
      "/usr/local/lib/python3.8/site-packages/sklearn/metrics/_classification.py:1334: UndefinedMetricWarning: Precision and F-score are ill-defined and being set to 0.0 in labels with no predicted samples. Use `zero_division` parameter to control this behavior.\n",
      "  _warn_prf(average, modifier, msg_start, len(result))\n",
      "/usr/local/lib/python3.8/site-packages/sklearn/metrics/_classification.py:1334: UndefinedMetricWarning: Precision and F-score are ill-defined and being set to 0.0 in labels with no predicted samples. Use `zero_division` parameter to control this behavior.\n",
      "  _warn_prf(average, modifier, msg_start, len(result))\n"
     ]
    }
   ],
   "source": [
    "print(\"\\nTop-DT using GridSearchCV with criterion, max_depth and min_samples_split\")\n",
    "\n",
    "# evaluate classifier\n",
    "print(\"\\nTop-DT Emotions Classification Report:\\n\", classification_report(y_emotions_test, y_top_DT_emotions_pred, target_names=emotion_labels))\n",
    "print(\"\\nTop-DT Sentiments Classification Report:\\n\", classification_report(y_sentiments_test, y_top_DT_sentiments_pred, target_names=sentiment_labels))\n",
    "\n",
    "# show confusion Matrix\n",
    "print(\"\\nTop-DT Emotions Confusion Matrix:\\n\", confusion_matrix(y_emotions_test, y_top_DT_emotions_pred))\n",
    "print(\"\\nTop-DT Sentiments Confusion Matrix:\\n\", confusion_matrix(y_sentiments_test, y_top_DT_sentiments_pred))"
   ]
  },
  {
   "cell_type": "markdown",
   "metadata": {},
   "source": [
    "### 2.3.6 - Top-MLP"
   ]
  },
  {
   "cell_type": "code",
   "execution_count": null,
   "metadata": {},
   "outputs": [
    {
     "name": "stderr",
     "output_type": "stream",
     "text": [
      "/usr/local/lib/python3.8/site-packages/sklearn/neural_network/_multilayer_perceptron.py:702: ConvergenceWarning: Stochastic Optimizer: Maximum iterations (5) reached and the optimization hasn't converged yet.\n",
      "  warnings.warn(\n",
      "/usr/local/lib/python3.8/site-packages/sklearn/neural_network/_multilayer_perceptron.py:702: ConvergenceWarning: Stochastic Optimizer: Maximum iterations (5) reached and the optimization hasn't converged yet.\n",
      "  warnings.warn(\n",
      "/usr/local/lib/python3.8/site-packages/sklearn/neural_network/_multilayer_perceptron.py:702: ConvergenceWarning: Stochastic Optimizer: Maximum iterations (5) reached and the optimization hasn't converged yet.\n",
      "  warnings.warn(\n",
      "/usr/local/lib/python3.8/site-packages/sklearn/neural_network/_multilayer_perceptron.py:702: ConvergenceWarning: Stochastic Optimizer: Maximum iterations (5) reached and the optimization hasn't converged yet.\n",
      "  warnings.warn(\n",
      "/usr/local/lib/python3.8/site-packages/sklearn/neural_network/_multilayer_perceptron.py:702: ConvergenceWarning: Stochastic Optimizer: Maximum iterations (5) reached and the optimization hasn't converged yet.\n",
      "  warnings.warn(\n",
      "/usr/local/lib/python3.8/site-packages/sklearn/neural_network/_multilayer_perceptron.py:702: ConvergenceWarning: Stochastic Optimizer: Maximum iterations (5) reached and the optimization hasn't converged yet.\n",
      "  warnings.warn(\n",
      "/usr/local/lib/python3.8/site-packages/sklearn/neural_network/_multilayer_perceptron.py:702: ConvergenceWarning: Stochastic Optimizer: Maximum iterations (5) reached and the optimization hasn't converged yet.\n",
      "  warnings.warn(\n",
      "/usr/local/lib/python3.8/site-packages/sklearn/neural_network/_multilayer_perceptron.py:702: ConvergenceWarning: Stochastic Optimizer: Maximum iterations (5) reached and the optimization hasn't converged yet.\n",
      "  warnings.warn(\n",
      "/usr/local/lib/python3.8/site-packages/sklearn/neural_network/_multilayer_perceptron.py:702: ConvergenceWarning: Stochastic Optimizer: Maximum iterations (5) reached and the optimization hasn't converged yet.\n",
      "  warnings.warn(\n",
      "/usr/local/lib/python3.8/site-packages/sklearn/neural_network/_multilayer_perceptron.py:702: ConvergenceWarning: Stochastic Optimizer: Maximum iterations (5) reached and the optimization hasn't converged yet.\n",
      "  warnings.warn(\n",
      "/usr/local/lib/python3.8/site-packages/sklearn/neural_network/_multilayer_perceptron.py:702: ConvergenceWarning: Stochastic Optimizer: Maximum iterations (5) reached and the optimization hasn't converged yet.\n",
      "  warnings.warn(\n",
      "/usr/local/lib/python3.8/site-packages/sklearn/neural_network/_multilayer_perceptron.py:702: ConvergenceWarning: Stochastic Optimizer: Maximum iterations (5) reached and the optimization hasn't converged yet.\n",
      "  warnings.warn(\n",
      "/usr/local/lib/python3.8/site-packages/sklearn/neural_network/_multilayer_perceptron.py:702: ConvergenceWarning: Stochastic Optimizer: Maximum iterations (5) reached and the optimization hasn't converged yet.\n",
      "  warnings.warn(\n",
      "/usr/local/lib/python3.8/site-packages/sklearn/neural_network/_multilayer_perceptron.py:709: UserWarning: Training interrupted by user.\n",
      "  warnings.warn(\"Training interrupted by user.\")\n",
      "/usr/local/lib/python3.8/site-packages/sklearn/neural_network/_multilayer_perceptron.py:702: ConvergenceWarning: Stochastic Optimizer: Maximum iterations (5) reached and the optimization hasn't converged yet.\n",
      "  warnings.warn(\n"
     ]
    }
   ],
   "source": [
    "top_MLP_hyper_params = {\n",
    "    'activation': ['logistic', 'tanh', 'relu', 'identity'],\n",
    "    'hidden_layer_sizes': [(30, 50), (10, 10, 10)],\n",
    "    'solver': ['adam', 'sgd']\n",
    "}\n",
    "\n",
    "top_MLP = MLPClassifier(max_iter=5) ### talk about low epochs in analysis\n",
    "top_MLP_grid_search = GridSearchCV(estimator=top_MLP, param_grid=top_MLP_hyper_params)\n",
    "\n",
    "top_MLP_emotions_model = top_MLP_grid_search.fit(X_emotions_train, y_emotions_train)\n",
    "y_top_MLP_emotions_pred = top_MLP_emotions_model.predict(X_emotions_test)\n",
    "\n",
    "top_MLP_sentiments_model = top_MLP_grid_search.fit(X_sentiments_train, y_sentiments_train)\n",
    "y_top_MLP_sentiments_pred = top_MLP_sentiments_model.predict(X_sentiments_test)"
   ]
  },
  {
   "cell_type": "code",
   "execution_count": null,
   "metadata": {},
   "outputs": [],
   "source": [
    "print(\"\\nTop-MLP using GridSearchCV with activation, two network architectures of our choice and solver\")\n",
    "\n",
    "# evaluate classifier\n",
    "print(\"\\nTop-MLP Emotions Classification Report:\\n\", classification_report(y_emotions_test, y_top_MLP_emotions_pred, target_names=emotion_labels))\n",
    "print(\"\\nTop-MLP Sentiments Classification Report:\\n\", classification_report(y_sentiments_test, y_top_MLP_sentiments_pred, target_names=sentiment_labels))\n",
    "\n",
    "# show confusion Matrix\n",
    "print(\"\\nTop-MLP Emotions Confusion Matrix:\\n\", confusion_matrix(y_emotions_test, y_top_MLP_emotions_pred))\n",
    "print(\"\\nTop-MLP Sentiments Confusion Matrix:\\n\", confusion_matrix(y_sentiments_test, y_top_MLP_sentiments_pred))"
   ]
  },
  {
   "cell_type": "markdown",
   "metadata": {},
   "source": [
    "## 2.4 - Classification Performance"
   ]
  },
  {
   "cell_type": "markdown",
   "metadata": {},
   "source": [
    "### 2.4.1 - Base MNB Performance"
   ]
  },
  {
   "cell_type": "code",
   "execution_count": null,
   "metadata": {},
   "outputs": [
    {
     "name": "stdout",
     "output_type": "stream",
     "text": [
      "Base MNB with the default parameters\n"
     ]
    },
    {
     "ename": "NameError",
     "evalue": "name 'y_emotions_test' is not defined",
     "output_type": "error",
     "traceback": [
      "\u001b[0;31m---------------------------------------------------------------------------\u001b[0m",
      "\u001b[0;31mNameError\u001b[0m                                 Traceback (most recent call last)",
      "Cell \u001b[0;32mIn [2], line 6\u001b[0m\n\u001b[1;32m      3\u001b[0m \u001b[39mprint\u001b[39m(\u001b[39m\"\u001b[39m\u001b[39mBase MNB with the default parameters\u001b[39m\u001b[39m\"\u001b[39m)\n\u001b[1;32m      5\u001b[0m \u001b[39m# evaluate classifier\u001b[39;00m\n\u001b[0;32m----> 6\u001b[0m \u001b[39mprint\u001b[39m(classification_report(y_emotions_test, y_base_MNB_emotions_pred, target_names\u001b[39m=\u001b[39memotion_labels))\n\u001b[1;32m      7\u001b[0m \u001b[39mprint\u001b[39m(classification_report(y_sentiments_test, y_base_MNB_sentiments_pred, target_names\u001b[39m=\u001b[39msentiment_labels))\n\u001b[1;32m      9\u001b[0m \u001b[39m# show confusion Matrix\u001b[39;00m\n",
      "\u001b[0;31mNameError\u001b[0m: name 'y_emotions_test' is not defined"
     ]
    }
   ],
   "source": [
    "print(\"Base-MNB with the default parameters\")\n",
    "\n",
    "# evaluate classifier\n",
    "print(\"\\nBase-MNB Emotions Classification Report:\\n\", classification_report(y_emotions_test, y_base_MNB_emotions_pred, target_names=emotion_labels))\n",
    "print(\"\\nBase-MNB Sentiments Classification Report:\\n\", classification_report(y_sentiments_test, y_base_MNB_sentiments_pred, target_names=sentiment_labels))\n",
    "\n",
    "# show confusion Matrix\n",
    "print(\"\\nBase-MNB Emotions Confusion Matrix:\\n\", confusion_matrix(y_emotions_test, y_base_MNB_emotions_pred))\n",
    "print(\"\\nBase-MNB Sentiments Confusion Matrix:\\n\", confusion_matrix(y_sentiments_test, y_base_MNB_sentiments_pred))"
   ]
  },
  {
   "cell_type": "code",
   "execution_count": null,
   "metadata": {},
   "outputs": [],
   "source": [
    "with open('performance.txt', 'a') as f:\n",
    "    f.write(\"Base-MNB with the default parameters\")\n",
    "\n",
    "    # evaluate classifier\n",
    "    f.write(\"\\nBase-MNB Emotions Classification Report:\\n\")\n",
    "    f.write(classification_report(y_emotions_test, y_base_MNB_emotions_pred, target_names=emotion_labels))\n",
    "    f.write(\"\\nBase-MNB Sentiments Classification Report:\\n\")\n",
    "    f.write(classification_report(y_sentiments_test, y_base_MNB_sentiments_pred, target_names=sentiment_labels))\n",
    "\n",
    "    # show confusion Matrix\n",
    "    f.write(\"\\nBase-MNB Emotions Confusion Matrix:\\n\")\n",
    "    f.write(confusion_matrix(y_emotions_test, y_base_MNB_emotions_pred).to_csv)\n",
    "    f.write(\"\\nBase-MNB Sentiments Confusion Matrix:\\n\")\n",
    "    f.write(confusion_matrix(y_sentiments_test, y_base_MNB_sentiments_pred).to_csv)"
   ]
  },
  {
   "cell_type": "markdown",
   "metadata": {},
   "source": [
    "### 2.4.2 - Base DT Performance"
   ]
  },
  {
   "cell_type": "code",
   "execution_count": null,
   "metadata": {},
   "outputs": [],
   "source": [
    "print(\"\\nBase-DT with the default parameters\")\n",
    "\n",
    "# evaluate classifier\n",
    "print(\"\\nBase-DT Emotions Classification Report:\\n\", classification_report(y_emotions_test, y_base_DT_emotions_pred, target_names=emotion_labels))\n",
    "print(\"\\nBase-DT Sentiments Classification Report:\\n\", classification_report(y_sentiments_test, y_base_DT_sentiments_pred, target_names=sentiment_labels))\n",
    "\n",
    "# show confusion Matrix\n",
    "print(\"\\nBase-DT Emotions Confusion Matrix:\\n\", confusion_matrix(y_emotions_test, y_base_DT_emotions_pred))\n",
    "print(\"\\nBase-DT Sentiments Confusion Matrix:\\n\", confusion_matrix(y_sentiments_test, y_base_DT_sentiments_pred))"
   ]
  },
  {
   "cell_type": "markdown",
   "metadata": {},
   "source": [
    "### 2.4.3 - Base MLP Performance"
   ]
  },
  {
   "cell_type": "code",
   "execution_count": null,
   "metadata": {},
   "outputs": [],
   "source": [
    "print(\"\\nBase-MLP with the default parameters\")\n",
    "\n",
    "# evaluate classifier\n",
    "print(\"\\nBase-MLP Emotions Classification Report:\\n\", classification_report(y_emotions_test, y_base_MLP_emotions_pred, target_names=emotion_labels))\n",
    "print(\"\\nBase-MLP Sentiments Classification Report:\\n\", classification_report(y_sentiments_test, y_base_MLP_sentiments_pred, target_names=sentiment_labels))\n",
    "\n",
    "# show confusion Matrix\n",
    "print(\"\\nBase-MLP Emotions Confusion Matrix:\\n\", confusion_matrix(y_emotions_test, y_base_MLP_emotions_pred))\n",
    "print(\"\\nBase-MLP Sentiments Confusion Matrix:\\n\", confusion_matrix(y_sentiments_test, y_base_MLP_sentiments_pred))"
   ]
  },
  {
   "cell_type": "markdown",
   "metadata": {},
   "source": [
    "### 2.4.4 - Top MNB Performance"
   ]
  },
  {
   "cell_type": "code",
   "execution_count": null,
   "metadata": {},
   "outputs": [],
   "source": [
    "print(\"\\nTop-MNB using GridSearchCV to find best hyper parameters with alphafloat\")\n",
    "\n",
    "# evaluate classifier\n",
    "print(\"\\nTop-MNB Emotions Classification Report:\\n\", classification_report(y_emotions_test, y_top_MNB_emotions_pred, target_names=emotion_labels))\n",
    "print(\"\\nTop-MNB Sentiments Classification Report:\\n\", classification_report(y_sentiments_test, y_top_MNB_sentiments_pred, target_names=sentiment_labels))\n",
    "\n",
    "# show confusion Matrix\n",
    "print(\"Emotions Confusion Matrix:\\n\", confusion_matrix(y_emotions_test, y_top_MNB_emotions_pred))\n",
    "print(\"Sentiments Confusion Matrix:\\n\", confusion_matrix(y_sentiments_test, y_top_MNB_sentiments_pred))"
   ]
  },
  {
   "cell_type": "markdown",
   "metadata": {},
   "source": [
    "### 2.4.5 - Top DT Performance"
   ]
  },
  {
   "cell_type": "code",
   "execution_count": null,
   "metadata": {},
   "outputs": [],
   "source": [
    "print(\"\\nTop-DT using GridSearchCV with criterion, max_depth and min_samples_split\")\n",
    "\n",
    "# evaluate classifier\n",
    "print(\"\\nTop-DT Emotions Classification Report:\\n\", classification_report(y_emotions_test, y_top_DT_emotions_pred, target_names=emotion_labels))\n",
    "print(\"\\nTop-DT Sentiments Classification Report:\\n\", classification_report(y_sentiments_test, y_top_DT_sentiments_pred, target_names=sentiment_labels))\n",
    "\n",
    "# show confusion Matrix\n",
    "print(\"\\nTop-DT Emotions Confusion Matrix:\\n\", confusion_matrix(y_emotions_test, y_top_DT_emotions_pred))\n",
    "print(\"\\nTop-DT Sentiments Confusion Matrix:\\n\", confusion_matrix(y_sentiments_test, y_top_DT_sentiments_pred))"
   ]
  },
  {
   "cell_type": "markdown",
   "metadata": {},
   "source": [
    "### 2.4.6 - Top MLP Performance"
   ]
  },
  {
   "cell_type": "code",
   "execution_count": null,
   "metadata": {},
   "outputs": [],
   "source": [
    "print(\"\\nTop-MLP using GridSearchCV with activation, two network architectures of our choice and solver\")\n",
    "\n",
    "# evaluate classifier\n",
    "print(\"\\nTop-MLP Emotions Classification Report:\\n\", classification_report(y_emotions_test, y_top_MLP_emotions_pred, target_names=emotion_labels))\n",
    "print(\"\\nTop-MLP Sentiments Classification Report:\\n\", classification_report(y_sentiments_test, y_top_MLP_sentiments_pred, target_names=sentiment_labels))\n",
    "\n",
    "# show confusion Matrix\n",
    "print(\"\\nTop-MLP Emotions Confusion Matrix:\\n\", confusion_matrix(y_emotions_test, y_top_MLP_emotions_pred))\n",
    "print(\"\\nTop-MLP Sentiments Confusion Matrix:\\n\", confusion_matrix(y_sentiments_test, y_top_MLP_sentiments_pred))"
   ]
  },
  {
   "cell_type": "markdown",
   "metadata": {},
   "source": [
    "## 2.5 - Different train and test splits"
   ]
  },
  {
   "cell_type": "code",
   "execution_count": null,
   "metadata": {},
   "outputs": [],
   "source": [
    "X2_emotions_train, X2_emotions_test, y2_emotions_train, y2_emotions_test = train_test_split(X, y_emotions, test_size=0.2)\n",
    "X2_sentiments_train, X2_sentiments_test, y2_sentiments_train, y2_sentiments_test = train_test_split(X, y_sentiments, test_size=0.2)"
   ]
  },
  {
   "cell_type": "markdown",
   "metadata": {},
   "source": [
    "### 2.5.1 - Base MNB"
   ]
  },
  {
   "cell_type": "code",
   "execution_count": null,
   "metadata": {},
   "outputs": [],
   "source": [
    "base2_MNB_emotions_model = base_MNB.fit(X2_emotions_train, y2_emotions_train)\n",
    "y2_base_MNB_emotions_pred = base2_MNB_emotions_model.predict(X2_emotions_test)\n",
    "\n",
    "base2_MNB_sentiments_model = base_MNB.fit(X2_sentiments_train, y2_sentiments_train)\n",
    "y2_base_MNB_sentiments_pred = base2_MNB_sentiments_model.predict(X2_sentiments_test)\n",
    "\n",
    "print(\"Second Base-MNB with the default parameters\")\n",
    "\n",
    "# evaluate classifier\n",
    "print(\"\\nBase-MNB Emotions Classification Report:\\n\", classification_report(y2_emotions_test, y2_base_MNB_emotions_pred, target_names=emotion_labels))\n",
    "print(\"\\nBase-MNB Sentiments Classification Report:\\n\", classification_report(y2_sentiments_test, y2_base_MNB_sentiments_pred, target_names=sentiment_labels))\n",
    "\n",
    "# show confusion Matrix\n",
    "print(\"\\nBase-MNB Emotions Confusion Matrix:\\n\", confusion_matrix(y2_emotions_test, y2_base_MNB_emotions_pred))\n",
    "print(\"\\nBase-MNB Sentiments Confusion Matrix:\\n\", confusion_matrix(y2_sentiments_test, y2_base_MNB_sentiments_pred))"
   ]
  },
  {
   "cell_type": "markdown",
   "metadata": {},
   "source": [
    "### 2.5.2 - Base DT"
   ]
  },
  {
   "cell_type": "code",
   "execution_count": null,
   "metadata": {},
   "outputs": [],
   "source": [
    "base2_DT_emotions_model = base_DT.fit(X2_emotions_train, y2_emotions_train)\n",
    "y2_base_DT_emotions_pred = base2_DT_emotions_model.predict(X2_emotions_test)\n",
    "\n",
    "base2_DT_sentiments_model = base_DT.fit(X2_sentiments_train, y2_sentiments_train)\n",
    "y2_base_DT_sentiments_pred = base2_DT_sentiments_model.predict(X2_sentiments_test)\n",
    "\n",
    "print(\"Second Base-DT with the default parameters\")\n",
    "\n",
    "# evaluate classifier\n",
    "print(\"\\nBase-DT Emotions Classification Report:\\n\", classification_report(y2_emotions_test, y2_base_DT_emotions_pred, target_names=emotion_labels))\n",
    "print(\"\\nBase-DT Sentiments Classification Report:\\n\", classification_report(y2_sentiments_test, y2_base_DT_sentiments_pred, target_names=sentiment_labels))\n",
    "\n",
    "# show confusion Matrix\n",
    "print(\"\\nBase-DT Emotions Confusion Matrix:\\n\", confusion_matrix(y2_emotions_test, y2_base_DT_emotions_pred))\n",
    "print(\"\\nBase-DT Sentiments Confusion Matrix:\\n\", confusion_matrix(y2_sentiments_test, y2_base_DT_sentiments_pred))"
   ]
  },
  {
   "cell_type": "markdown",
   "metadata": {},
   "source": [
    "### 2.5.3 - Base MLP"
   ]
  },
  {
   "cell_type": "code",
   "execution_count": null,
   "metadata": {},
   "outputs": [],
   "source": [
    "base2_MLP_emotions_model = base_MLP.fit(X2_emotions_train, y2_emotions_train)\n",
    "y2_base_MLP_emotions_pred = base2_MLP_emotions_model.predict(X2_emotions_test)\n",
    "\n",
    "base2_MLP_sentiments_model = base_MLP.fit(X2_sentiments_train, y2_sentiments_train)\n",
    "y2_base_MLP_sentiments_pred = base2_MLP_sentiments_model.predict(X2_sentiments_test)\n",
    "\n",
    "print(\"Second Base-MLP with the default parameters\")\n",
    "\n",
    "# evaluate classifier\n",
    "print(\"\\nBase-MLP Emotions Classification Report:\\n\", classification_report(y2_emotions_test, y2_base_MLP_emotions_pred, target_names=emotion_labels))\n",
    "print(\"\\nBase-MLP Sentiments Classification Report:\\n\", classification_report(y2_sentiments_test, y2_base_MLP_sentiments_pred, target_names=sentiment_labels))\n",
    "\n",
    "# show confusion Matrix\n",
    "print(\"\\nBase-MLP Emotions Confusion Matrix:\\n\", confusion_matrix(y2_emotions_test, y2_base_MLP_emotions_pred))\n",
    "print(\"\\nBase-MLP Sentiments Confusion Matrix:\\n\", confusion_matrix(y2_sentiments_test, y2_base_MLP_sentiments_pred))"
   ]
  },
  {
   "cell_type": "markdown",
   "metadata": {},
   "source": [
    "### 2.5.4 - Top MNB"
   ]
  },
  {
   "cell_type": "code",
   "execution_count": null,
   "metadata": {},
   "outputs": [],
   "source": [
    "top2_MNB_hyper_params = {\n",
    "    # Because an alpha too small will result in numeric errors, 0 is set as 1.0e-10\n",
    "    'alpha': [1.0e-10, 0.5, 1.5, 3.0]\n",
    "}\n",
    "\n",
    "top2_MNB_emotions = MultinomialNB(class_prior=emotion_freq)\n",
    "top2_MNB_sentiments = MultinomialNB(class_prior=sentiment_freq)\n",
    "\n",
    "top2_MNB_emotions_grid_search = GridSearchCV(estimator=top_MNB_emotions, param_grid=top_MNB_hyper_params)\n",
    "top2_MNB_sentiments_grid_search = GridSearchCV(estimator=top_MNB_sentiments, param_grid=top_MNB_hyper_params)\n",
    "\n",
    "top2_MNB_emotions_model = top_MNB_emotions_grid_search.fit(X_emotions_train, y_emotions_train)\n",
    "y2_top_MNB_emotions_pred = top_MNB_emotions_model.predict(X_emotions_test)\n",
    "# print('best params for emotions MNB: ', top_MNB_emotions_model.best_params_)\n",
    "\n",
    "top2_MNB_sentiments_model = top2_MNB_sentiments_grid_search.fit(X_sentiments_train, y_sentiments_train)\n",
    "y2_top_MNB_sentiments_pred = top2_MNB_sentiments_model.predict(X_sentiments_test)\n",
    "# print('best params for sentiments MNB: ', top_MNB_sentiments_model.best_params_)"
   ]
  },
  {
   "cell_type": "markdown",
   "metadata": {},
   "source": [
    "### 2.5.5 - Top DT"
   ]
  },
  {
   "cell_type": "code",
   "execution_count": null,
   "metadata": {},
   "outputs": [],
   "source": [
    "top2_DT_hyper_params = {\n",
    "    'criterion': ['gini', 'entropy'],\n",
    "    'max_depth': [5, 10],\n",
    "    'min_samples_split': [2, 3, 4]\n",
    "}\n",
    "\n",
    "top2_DT = DecisionTreeClassifier()\n",
    "top2_DT_grid_search = GridSearchCV(estimator=top_DT, param_grid=top_DT_hyper_params)\n",
    "\n",
    "top2_DT_emotions_model = top2_DT_grid_search.fit(X_emotions_train, y_emotions_train)\n",
    "y2_top_DT_emotions_pred = top2_DT_emotions_model.predict(X_emotions_test)\n",
    "\n",
    "top2_DT_sentiments_model = top2_DT_grid_search.fit(X_sentiments_train, y_sentiments_train)\n",
    "y2_top_DT_sentiments_pred = top2_DT_sentiments_model.predict(X_sentiments_test)"
   ]
  },
  {
   "cell_type": "markdown",
   "metadata": {},
   "source": [
    "### 2.5.6 - Top MLP"
   ]
  },
  {
   "cell_type": "code",
   "execution_count": null,
   "metadata": {},
   "outputs": [],
   "source": [
    "top2_MLP_hyper_params = {\n",
    "    'activation': ['logistic', 'tanh', 'relu', 'identity'],\n",
    "    'hidden_layer_sizes': [(30, 50), (10, 10, 10)],\n",
    "    'solver': ['adam', 'sgd']\n",
    "}\n",
    "\n",
    "top2_MLP = MLPClassifier(max_iter=5) ### talk about low epochs in analysis\n",
    "top2_MLP_grid_search = GridSearchCV(estimator=top_MLP, param_grid=top_MLP_hyper_params)\n",
    "\n",
    "top2_MLP_emotions_model = top2_MLP_grid_search.fit(X_emotions_train, y_emotions_train)\n",
    "y2_top_MLP_emotions_pred = top2_MLP_emotions_model.predict(X_emotions_test)\n",
    "\n",
    "top2_MLP_sentiments_model = top2_MLP_grid_search.fit(X_sentiments_train, y_sentiments_train)\n",
    "y2_top_MLP_sentiments_pred = top2_MLP_sentiments_model.predict(X_sentiments_test)"
   ]
  }
 ],
 "metadata": {
  "kernelspec": {
   "display_name": "Python 3.8.5 64-bit",
   "language": "python",
   "name": "python3"
  },
  "language_info": {
   "codemirror_mode": {
    "name": "ipython",
    "version": 3
   },
   "file_extension": ".py",
   "mimetype": "text/x-python",
   "name": "python",
   "nbconvert_exporter": "python",
   "pygments_lexer": "ipython3",
   "version": "3.8.5"
  },
  "orig_nbformat": 4,
  "vscode": {
   "interpreter": {
    "hash": "aee8b7b246df8f9039afb4144a1f6fd8d2ca17a180786b69acc140d282b71a49"
   }
  }
 },
 "nbformat": 4,
 "nbformat_minor": 2
}
